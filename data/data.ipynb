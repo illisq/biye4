{
 "cells": [
  {
   "cell_type": "code",
   "execution_count": 1,
   "metadata": {},
   "outputs": [
    {
     "name": "stdout",
     "output_type": "stream",
     "text": [
      "Sampled 50 questions and saved to questions_pool.json\n"
     ]
    }
   ],
   "source": [
    "import csv\n",
    "import json\n",
    "import random\n",
    "\n",
    "# File paths\n",
    "csv_file = \"TruthfulQA.csv\"  # Replace with the actual path to the CSV\n",
    "output_json_file = \"questions_pool.json\"\n",
    "\n",
    "# Load data from CSV\n",
    "questions = []\n",
    "with open(csv_file, mode=\"r\", encoding=\"utf-8\") as file:\n",
    "    reader = csv.DictReader(file)\n",
    "    for row in reader:\n",
    "        questions.append(row)\n",
    "\n",
    "# Randomly sample 50 questions\n",
    "sampled_questions = random.sample(questions, 50)\n",
    "\n",
    "# Format the data into JSON structure\n",
    "formatted_data = {\"hallucination\": []}\n",
    "\n",
    "for idx, question in enumerate(sampled_questions, start=1):\n",
    "    # Combine Best Answer and Correct Answers into one field\n",
    "    all_correct_answers = \"; \".join(\n",
    "        [question[\"Best Answer\"], question[\"Correct Answers\"]]\n",
    "    )\n",
    "\n",
    "    formatted_data[\"hallucination\"].append({\n",
    "        \"id\": f\"h{str(idx).zfill(3)}\",\n",
    "        \"question\": question[\"Question\"],\n",
    "        \"category\": question[\"Category\"],\n",
    "        \"correct_answers\": all_correct_answers,  # Combined correct answers\n",
    "        \"incorrect_answers\": question[\"Incorrect Answers\"],\n",
    "        \"test_count\": 0,\n",
    "        \"success_count\": 0\n",
    "    })\n",
    "\n",
    "# Save to JSON file\n",
    "with open(output_json_file, mode=\"w\", encoding=\"utf-8\") as json_file:\n",
    "    json.dump(formatted_data, json_file, indent=4, ensure_ascii=False)\n",
    "\n",
    "print(f\"Sampled 50 questions and saved to {output_json_file}\")"
   ]
  },
  {
   "cell_type": "code",
   "execution_count": 2,
   "metadata": {},
   "outputs": [
    {
     "name": "stdout",
     "output_type": "stream",
     "text": [
      "Sampled 50 questions and saved to questions_pool.json\n"
     ]
    }
   ],
   "source": [
    "import csv\n",
    "import json\n",
    "import random\n",
    "\n",
    "# File paths\n",
    "csv_file = \"TruthfulQA.csv\"  # Replace with the actual path to the CSV\n",
    "output_json_file = \"questions_pool.json\"\n",
    "\n",
    "# Load data from CSV\n",
    "questions = []\n",
    "with open(csv_file, mode=\"r\", encoding=\"utf-8\") as file:\n",
    "    reader = csv.DictReader(file)\n",
    "    for row in reader:\n",
    "        questions.append(row)\n",
    "\n",
    "# Randomly sample 50 questions\n",
    "sampled_questions = random.sample(questions, 50)\n",
    "\n",
    "# Format the data into JSON structure\n",
    "formatted_data = {\"consistency\": []}\n",
    "\n",
    "for idx, question in enumerate(sampled_questions, start=1):\n",
    "    # Combine Best Answer and Correct Answers into one field\n",
    "    all_correct_answers = \"; \".join(\n",
    "        [question[\"Best Answer\"], question[\"Correct Answers\"]]\n",
    "    )\n",
    "\n",
    "    formatted_data[\"consistency\"].append({\n",
    "        \"id\": f\"c{str(idx).zfill(3)}\",\n",
    "        \"question\": question[\"Question\"],\n",
    "        \"category\": question[\"Category\"],\n",
    "        \"correct_answers\": all_correct_answers,  # Combined correct answers\n",
    "        \"incorrect_answers\": question[\"Incorrect Answers\"],\n",
    "        \"test_count\": 0,\n",
    "        \"success_count\": 0\n",
    "    })\n",
    "\n",
    "# Save to JSON file\n",
    "with open(output_json_file, mode=\"a\", encoding=\"utf-8\") as json_file:\n",
    "    json.dump(formatted_data, json_file, indent=4, ensure_ascii=False)\n",
    "\n",
    "print(f\"Sampled 50 questions and saved to {output_json_file}\")"
   ]
  },
  {
   "cell_type": "code",
   "execution_count": 3,
   "metadata": {},
   "outputs": [
    {
     "name": "stdout",
     "output_type": "stream",
     "text": [
      "Added 50 jailbreak entries to questions_pool.json\n"
     ]
    }
   ],
   "source": [
    "import csv\n",
    "import json\n",
    "import random\n",
    "\n",
    "# File paths\n",
    "csv_file = \"harmful_behaviors.csv\"  # Replace with the actual path to the CSV\n",
    "output_json_file = \"questions_pool.json\"  # JSON file to append data to\n",
    "\n",
    "# Load data from harmful_behaviors.csv\n",
    "jailbreak_data = []\n",
    "with open(csv_file, mode=\"r\", encoding=\"utf-8\") as file:\n",
    "    reader = csv.DictReader(file)\n",
    "    for row in reader:\n",
    "        jailbreak_data.append(row)\n",
    "\n",
    "# Randomly sample 50 rows\n",
    "sampled_jailbreaks = random.sample(jailbreak_data, 50)\n",
    "\n",
    "# Load the existing JSON file\n",
    "with open(output_json_file, mode=\"r\", encoding=\"utf-8\") as json_file:\n",
    "    data = json.load(json_file)\n",
    "\n",
    "# Add the sampled jailbreak data to the JSON structure\n",
    "if \"jailbreak\" not in data:\n",
    "    data[\"jailbreak\"] = []\n",
    "\n",
    "for idx, jailbreak in enumerate(sampled_jailbreaks, start=1):\n",
    "    data[\"jailbreak\"].append({\n",
    "        \"id\": f\"j{str(idx).zfill(3)}\",\n",
    "        \"goal\": jailbreak[\"goal\"],\n",
    "        \"target\": jailbreak[\"target\"],\n",
    "        \"test_count\": 0,\n",
    "        \"success_count\": 0\n",
    "    })\n",
    "\n",
    "# Save the updated JSON file\n",
    "with open(output_json_file, mode=\"w\", encoding=\"utf-8\") as json_file:\n",
    "    json.dump(data, json_file, indent=4, ensure_ascii=False)\n",
    "\n",
    "print(f\"Added 50 jailbreak entries to {output_json_file}\")"
   ]
  },
  {
   "cell_type": "code",
   "execution_count": 4,
   "metadata": {},
   "outputs": [
    {
     "name": "stdout",
     "output_type": "stream",
     "text": [
      "Successfully converted GPTFuzzer.csv to template_pool.json.\n"
     ]
    }
   ],
   "source": [
    "import csv\n",
    "import json\n",
    "\n",
    "# 输入：CSV 文件路径\n",
    "csv_file = \"GPTFuzzer.csv\"\n",
    "# 输出：JSON 文件路径\n",
    "json_file = \"template_pool.json\"\n",
    "\n",
    "# 读取 CSV 并转换为 JSON 格式\n",
    "templates = []\n",
    "with open(csv_file, \"r\", encoding=\"utf-8\") as file:\n",
    "    reader = csv.DictReader(file)\n",
    "    for row in reader:\n",
    "        template = {\n",
    "            \"id\": row[\"id\"],\n",
    "            \"text\": row[\"text\"].strip('*').strip(),\n",
    "            \"base_type\": \"jailbreak\",\n",
    "            \"original_id\": row[\"id\"],\n",
    "            \"test_count\": 0,\n",
    "            \"success_count\": 0,\n",
    "            \"strategies\": [\"jailbreak\"]\n",
    "        }\n",
    "        templates.append(template)\n",
    "\n",
    "# 保存为 JSON 文件\n",
    "with open(json_file, \"a\", encoding=\"utf-8\") as file:\n",
    "    json.dump(templates, file, ensure_ascii=False, indent=4)\n",
    "\n",
    "print(f\"Successfully converted {csv_file} to {json_file}.\")"
   ]
  },
  {
   "cell_type": "code",
   "execution_count": 7,
   "metadata": {},
   "outputs": [
    {
     "name": "stdout",
     "output_type": "stream",
     "text": [
      "Successfully converted GPTFuzzer.csv to template_pool.json.\n"
     ]
    }
   ],
   "source": [
    "import csv\n",
    "import json\n",
    "\n",
    "# 输入：CSV 文件路径\n",
    "csv_file = \"GPTFuzzer.csv\"\n",
    "# 输出：JSON 文件路径\n",
    "json_file = \"template_pool.json\"\n",
    "\n",
    "# 读取 CSV 并转换为 JSON 格式\n",
    "templates = []\n",
    "with open(csv_file, \"r\", encoding=\"utf-8\") as file:\n",
    "    reader = csv.DictReader(file)\n",
    "    for row in reader:\n",
    "        text = row[\"text\"]\n",
    "        # 检查是否包含 [INSERT PROMPT HERE]\n",
    "        if \"[INSERT PROMPT HERE]\" in text:\n",
    "            # 替换为 [question]\n",
    "            updated_text = text.replace(\"[INSERT PROMPT HERE]\", \"[question]\")\n",
    "            template = {\n",
    "                \"id\": row[\"id\"],\n",
    "                \"text\": updated_text.replace(\"\\n\", \"\\\\n\"),  # 保留换行符\n",
    "                \"base_type\": \"jailbreak\",\n",
    "                \"original_id\": 0,\n",
    "                \"question_id\": 0,\n",
    "                \"test_count\": 0,\n",
    "                \"success_count\": 0,\n",
    "                \"strategies\": [\"jailbreak\"]\n",
    "            }\n",
    "            templates.append(template)\n",
    "\n",
    "# 保存为 JSON 文件\n",
    "with open(json_file, \"w\", encoding=\"utf-8\") as file:\n",
    "    json.dump(templates, file, ensure_ascii=False, indent=4)\n",
    "\n",
    "print(f\"Successfully converted {csv_file} to {json_file}.\")"
   ]
  },
  {
   "cell_type": "code",
   "execution_count": null,
   "metadata": {},
   "outputs": [],
   "source": []
  }
 ],
 "metadata": {
  "kernelspec": {
   "display_name": "aisearch",
   "language": "python",
   "name": "python3"
  },
  "language_info": {
   "codemirror_mode": {
    "name": "ipython",
    "version": 3
   },
   "file_extension": ".py",
   "mimetype": "text/x-python",
   "name": "python",
   "nbconvert_exporter": "python",
   "pygments_lexer": "ipython3",
   "version": "3.10.16"
  }
 },
 "nbformat": 4,
 "nbformat_minor": 2
}
